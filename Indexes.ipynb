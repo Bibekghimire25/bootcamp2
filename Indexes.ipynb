{
  "nbformat": 4,
  "nbformat_minor": 0,
  "metadata": {
    "colab": {
      "provenance": [],
      "collapsed_sections": [],
      "authorship_tag": "ABX9TyPeelK8JXWdw9RB6ORuiar4",
      "include_colab_link": true
    },
    "kernelspec": {
      "name": "python3",
      "display_name": "Python 3"
    },
    "language_info": {
      "name": "python"
    }
  },
  "cells": [
    {
      "cell_type": "markdown",
      "metadata": {
        "id": "view-in-github",
        "colab_type": "text"
      },
      "source": [
        "<a href=\"https://colab.research.google.com/github/Bibekghimire25/bootcamp2/blob/main/Indexes.ipynb\" target=\"_parent\"><img src=\"https://colab.research.google.com/assets/colab-badge.svg\" alt=\"Open In Colab\"/></a>"
      ]
    },
    {
      "cell_type": "code",
      "execution_count": 3,
      "metadata": {
        "colab": {
          "base_uri": "https://localhost:8080/"
        },
        "id": "tSYXKIEiWmLh",
        "outputId": "2e389d99-af47-4e86-b794-886bec0a4f0a"
      },
      "outputs": [
        {
          "output_type": "stream",
          "name": "stdout",
          "text": [
            "12\n",
            "constitution\n",
            "noitutitsnoc\n",
            "constitution\n",
            "noitutitsnoc\n"
          ]
        }
      ],
      "source": [
        "str2 = \"constitution\"\n",
        "print (len(str2))\n",
        "print(str2[0:12:1])\n",
        "print(str2[-1:-14:-1])\n",
        "print(str2[-14::1])\n",
        "print(str2[12::-1])\n"
      ]
    },
    {
      "cell_type": "code",
      "source": [
        "tup1=('monday','tuesday','wednesday','thrusday','friday')\n",
        "print(tup1[0:5:1])\n",
        "print(tup1[-1:-6:-1])\n",
        "print(tup1[-5::1])\n",
        "print(tup1[4::-1])"
      ],
      "metadata": {
        "colab": {
          "base_uri": "https://localhost:8080/"
        },
        "id": "EtfRuvexYI2o",
        "outputId": "c86d8464-8207-421b-a171-04c63916f259"
      },
      "execution_count": 7,
      "outputs": [
        {
          "output_type": "stream",
          "name": "stdout",
          "text": [
            "('monday', 'tuesday', 'wednesday', 'thrusday', 'friday')\n",
            "('friday', 'thrusday', 'wednesday', 'tuesday', 'monday')\n",
            "('monday', 'tuesday', 'wednesday', 'thrusday', 'friday')\n",
            "('friday', 'thrusday', 'wednesday', 'tuesday', 'monday')\n"
          ]
        }
      ]
    },
    {
      "cell_type": "code",
      "source": [
        "dict1 = {\n",
        "    'tiger':[\n",
        "     (1,2,3,4,5),['mon','tue','wed'],True,False\n",
        "    ],\n",
        "    'lion':{'a':'apple','b':'banana','c':'cat'},\n",
        "    'fox':{\"red\":{1:'a',2:'b',3:'c'},'blue':('tree','water','air','fire')}\n",
        "  }\n",
        "print(dict1['tiger'])  \n",
        "print(dict1['lion'])\n",
        "print(dict1['fox'])\n",
        "print(dict1['tiger'][0])  \n",
        "print(dict1['tiger'][0][0])  \n",
        "print(dict1['tiger'][0][1])  \n",
        "print(dict1['tiger'][0][2])  \n",
        "print(dict1['tiger'][0][3])  \n",
        "print(dict1['tiger'][0][4])  \n",
        "print(dict1['tiger'][1])  \n",
        "print(dict1['tiger'][1][0])  \n",
        "print(dict1['tiger'][1][1])  \n",
        "print(dict1['tiger'][1][2])  \n",
        "print(dict1['tiger'][2])\n",
        "print(dict1['tiger'][3])  \n",
        "print(dict1['lion']['a'])\n",
        "print(dict1['lion']['b'])\n",
        "print(dict1['lion']['c'])\n",
        "print(dict1['fox']['red'])\n",
        "print(dict1['fox']['red'][1])\n",
        "print(dict1['fox']['red'][2])\n",
        "print(dict1['fox']['red'][3])\n",
        "print(dict1['fox']['blue'])\n",
        "print(dict1['fox']['blue'][0])\n",
        "print(dict1['fox']['blue'][1])\n",
        "print(dict1['fox']['blue'][2])\n",
        "print(dict1['fox']['blue'][3])"
      ],
      "metadata": {
        "colab": {
          "base_uri": "https://localhost:8080/"
        },
        "id": "DA_sCd0Zb91J",
        "outputId": "e8bfe269-47dd-473d-cf97-d626a9c89b7d"
      },
      "execution_count": 8,
      "outputs": [
        {
          "output_type": "stream",
          "name": "stdout",
          "text": [
            "[(1, 2, 3, 4, 5), ['mon', 'tue', 'wed'], True, False]\n",
            "{'a': 'apple', 'b': 'banana', 'c': 'cat'}\n",
            "{'red': {1: 'a', 2: 'b', 3: 'c'}, 'blue': ('tree', 'water', 'air', 'fire')}\n",
            "(1, 2, 3, 4, 5)\n",
            "1\n",
            "2\n",
            "3\n",
            "4\n",
            "5\n",
            "['mon', 'tue', 'wed']\n",
            "mon\n",
            "tue\n",
            "wed\n",
            "True\n",
            "False\n",
            "apple\n",
            "banana\n",
            "cat\n",
            "{1: 'a', 2: 'b', 3: 'c'}\n",
            "a\n",
            "b\n",
            "c\n",
            "('tree', 'water', 'air', 'fire')\n",
            "tree\n",
            "water\n",
            "air\n",
            "fire\n"
          ]
        }
      ]
    },
    {
      "cell_type": "code",
      "source": [],
      "metadata": {
        "id": "CfbzrN9sb9Rf"
      },
      "execution_count": null,
      "outputs": []
    }
  ]
}