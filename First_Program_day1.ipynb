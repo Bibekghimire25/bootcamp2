{
  "nbformat": 4,
  "nbformat_minor": 0,
  "metadata": {
    "colab": {
      "provenance": [],
      "collapsed_sections": [],
      "authorship_tag": "ABX9TyNJNGKMGrpWIQL67SpTO3s0",
      "include_colab_link": true
    },
    "kernelspec": {
      "name": "python3",
      "display_name": "Python 3"
    },
    "language_info": {
      "name": "python"
    }
  },
  "cells": [
    {
      "cell_type": "markdown",
      "metadata": {
        "id": "view-in-github",
        "colab_type": "text"
      },
      "source": [
        "<a href=\"https://colab.research.google.com/github/Bibekghimire25/bootcamp2/blob/main/First_Program_day1.ipynb\" target=\"_parent\"><img src=\"https://colab.research.google.com/assets/colab-badge.svg\" alt=\"Open In Colab\"/></a>"
      ]
    },
    {
      "cell_type": "code",
      "execution_count": null,
      "metadata": {
        "colab": {
          "base_uri": "https://localhost:8080/"
        },
        "id": "vUvvi4E2jyUl",
        "outputId": "55169309-8094-447e-aa43-7ce6122b011f"
      },
      "outputs": [
        {
          "output_type": "stream",
          "name": "stdout",
          "text": [
            "Welcom to Python session\n"
          ]
        }
      ],
      "source": [
        "print(\"Welcom to Python session\")"
      ]
    },
    {
      "cell_type": "markdown",
      "source": [
        "#Data Type in Python\n",
        "\n",
        "1. standard data type \n",
        "  1. number\n",
        "    1.int - whole number whithout any fractional values \n",
        "    2.float - fractional values / decimal \n",
        "    3.complex - imaginary values/number\n",
        "2. string - anything which is under double quotes or single quote is string\n",
        "3.boolean - true or false \n",
        "2. data structure data type "
      ],
      "metadata": {
        "id": "qCn6BeKxqBC0"
      }
    },
    {
      "cell_type": "code",
      "source": [
        "a = -77\n",
        "print(a)\n",
        "print(type(a))"
      ],
      "metadata": {
        "colab": {
          "base_uri": "https://localhost:8080/"
        },
        "id": "4n4H4BmVsyi3",
        "outputId": "310fbd3a-2b7e-44ea-c516-7883e98fbdae"
      },
      "execution_count": null,
      "outputs": [
        {
          "output_type": "stream",
          "name": "stdout",
          "text": [
            "-77\n",
            "<class 'int'>\n"
          ]
        }
      ]
    },
    {
      "cell_type": "code",
      "source": [
        "a = 3+15j\n",
        "print(a)\n",
        "print(type(a))"
      ],
      "metadata": {
        "colab": {
          "base_uri": "https://localhost:8080/"
        },
        "id": "3InH8QbZtgQr",
        "outputId": "66870356-5d62-4e27-f813-69283477ca42"
      },
      "execution_count": null,
      "outputs": [
        {
          "output_type": "stream",
          "name": "stdout",
          "text": [
            "(3+15j)\n",
            "<class 'complex'>\n"
          ]
        }
      ]
    },
    {
      "cell_type": "code",
      "source": [
        "a = True\n",
        "print(a)\n",
        "print(type(a))"
      ],
      "metadata": {
        "colab": {
          "base_uri": "https://localhost:8080/"
        },
        "id": "FNR9QZv-tsmi",
        "outputId": "387789b2-d9c2-4bef-eb1f-e4312b50af57"
      },
      "execution_count": null,
      "outputs": [
        {
          "output_type": "stream",
          "name": "stdout",
          "text": [
            "True\n",
            "<class 'bool'>\n"
          ]
        }
      ]
    },
    {
      "cell_type": "code",
      "source": [
        "a = False\n",
        "print(a)\n",
        "print(type(a))"
      ],
      "metadata": {
        "colab": {
          "base_uri": "https://localhost:8080/"
        },
        "id": "MeGOEVvyt27x",
        "outputId": "f13e89a3-8968-4406-ba73-83ed0253d6a5"
      },
      "execution_count": null,
      "outputs": [
        {
          "output_type": "stream",
          "name": "stdout",
          "text": [
            "False\n",
            "<class 'bool'>\n"
          ]
        }
      ]
    },
    {
      "cell_type": "code",
      "source": [
        "a = \"Bibek\"\n",
        "print(a)\n",
        "print(type(a))"
      ],
      "metadata": {
        "colab": {
          "base_uri": "https://localhost:8080/"
        },
        "id": "eVMGHxDeuKV0",
        "outputId": "8c48308b-90c4-400e-aef6-ab31a1825274"
      },
      "execution_count": null,
      "outputs": [
        {
          "output_type": "stream",
          "name": "stdout",
          "text": [
            "Bibek\n",
            "<class 'str'>\n"
          ]
        }
      ]
    },
    {
      "cell_type": "code",
      "source": [],
      "metadata": {
        "id": "REbyPNdjuiOt"
      },
      "execution_count": null,
      "outputs": []
    },
    {
      "cell_type": "markdown",
      "source": [
        "Data Structured Data Type\n",
        "\n",
        "1. List - Normal regular list/ collection of stuffs [] everything inside the bracket.\n",
        "2. Tuple- () small bracket \n",
        "3. Set- {} curly bracket- \n",
        "4. Dictionary- \n"
      ],
      "metadata": {
        "id": "eV-_JXiIvhtO"
      }
    },
    {
      "cell_type": "code",
      "source": [
        "a = {'a','b','c','d','e'}\n",
        "print(a)\n",
        "print(type(a))"
      ],
      "metadata": {
        "colab": {
          "base_uri": "https://localhost:8080/"
        },
        "id": "jfBhs1LFw6ux",
        "outputId": "50f5fccf-4116-4fb9-a4a4-e3ddfe8aedb7"
      },
      "execution_count": null,
      "outputs": [
        {
          "output_type": "stream",
          "name": "stdout",
          "text": [
            "{'c', 'a', 'e', 'd', 'b'}\n",
            "<class 'set'>\n"
          ]
        }
      ]
    },
    {
      "cell_type": "markdown",
      "source": [
        "List is a collection which is ordered and changeable. Allows duplicate members.\n",
        "Tuple is a collection which is ordered and unchangeable. Allows duplicate members.\n",
        "Set is a collection which is unordered, unchangeable*, and unindexed. No duplicate members.\n",
        "Dictionary is a collection which is ordered** and changeable. No duplicate members."
      ],
      "metadata": {
        "id": "goGfM3RiyTqr"
      }
    },
    {
      "cell_type": "markdown",
      "source": [
        "A function is a block of code which only runs when it is called.\n",
        "\n",
        "You can pass data, known as parameters, into a function.\n",
        "\n",
        "A function can return data as a result.\n",
        "\n",
        "To call a function, use the function name followed by parenthesis:"
      ],
      "metadata": {
        "id": "ezal2appzQUK"
      }
    },
    {
      "cell_type": "code",
      "source": [
        "\n",
        "def my_function():\n",
        "  print(\"Hello from a function\")\n",
        "\n",
        "my_function()"
      ],
      "metadata": {
        "colab": {
          "base_uri": "https://localhost:8080/"
        },
        "id": "V083KtiIzS93",
        "outputId": "3f84ae3a-f52b-4c25-ca7d-1e4e3d24a35d"
      },
      "execution_count": null,
      "outputs": [
        {
          "output_type": "stream",
          "name": "stdout",
          "text": [
            "Hello from a function\n"
          ]
        }
      ]
    },
    {
      "cell_type": "code",
      "source": [
        "a = [1,2,3,4,5,6,7,8,9,10]\n",
        "print(a)\n",
        "print(a.count('a'))\n",
        "print(type(a))"
      ],
      "metadata": {
        "colab": {
          "base_uri": "https://localhost:8080/"
        },
        "id": "yoxBH1_f0tp6",
        "outputId": "a9ea9a91-ee35-4691-8a64-c6234292e6d7"
      },
      "execution_count": null,
      "outputs": [
        {
          "output_type": "stream",
          "name": "stdout",
          "text": [
            "[1, 2, 3, 4, 5, 6, 7, 8, 9, 10]\n",
            "0\n",
            "<class 'list'>\n"
          ]
        }
      ]
    }
  ]
}